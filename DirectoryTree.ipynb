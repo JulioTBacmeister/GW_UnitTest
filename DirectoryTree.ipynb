{
 "cells": [
  {
   "cell_type": "code",
   "execution_count": 11,
   "id": "816312ec-e268-4858-b36e-ffde2feacad7",
   "metadata": {},
   "outputs": [
    {
     "name": "stdout",
     "output_type": "stream",
     "text": [
      ".\n",
      "|--- .gitattributes\n",
      "|--- .gitignore\n",
      "|--- ChangeLog\n",
      "|--- DirectoryTree.ipynb\n",
      "|--- Makefile\n",
      "|--- README.md\n",
      "|--- __init__.py\n",
      "|--- atm_in\n",
      "|--- atm_in_CTL\n",
      "|--- create_case.py\n",
      "|--- drv_create_case.csh\n",
      "|--- gw_driver.F90\n",
      "|--- gw_interface.F90\n",
      "|--- namelist_imports.inc\n",
      "|--- test.F90\n",
      "|--- utils\n",
      "      |--- cam_abortutils.F90\n",
      "      |--- coords_1d.F90\n",
      "      |--- error_messages.F90\n",
      "      |--- interpolate_data.F90\n",
      "      |--- linear_1d_operators.F90\n",
      "      |--- namelist_mod.F90\n",
      "      |--- namelist_utils.F90\n",
      "      |--- ncread_mod.F90\n",
      "      |--- phys_control.F90\n",
      "      |--- physconst.F90\n",
      "      |--- sphere_ops.F90\n",
      "      |--- units.F90\n",
      "      |--- utils_mod.F90\n",
      "      |--- vdiff_lu_solver.F90\n",
      "|--- share\n",
      "      |--- shr_const_mod.F90\n",
      "      |--- shr_const_mod.F90_orig\n",
      "      |--- shr_file_mod.F90\n",
      "      |--- shr_kind_mod.F90\n",
      "      |--- shr_log_mod.F90\n",
      "      |--- shr_nl_mod.F90\n",
      "      |--- shr_string_mod.F90\n",
      "      |--- shr_sys_mod.F90\n",
      "|--- src\n",
      "      |--- geopotential.F90\n",
      "      |--- gw_common.F90\n",
      "      |--- gw_diffusion.F90\n",
      "      |--- gw_drag.F90\n",
      "      |--- gw_movmtn.F90\n",
      "      |--- gw_movmtn_calc_mod.F90\n",
      "      |--- gw_rdg.F90\n",
      "      |--- gw_rdg_calc_mod.F90\n",
      "      |--- gw_utils.F90\n",
      "      |--- physics_types.F90\n",
      "      |--- ppgrid.F90\n"
     ]
    }
   ],
   "source": [
    "import os\n",
    "root=\".\"\n",
    "exclude={\".git\",\"__pycache__\",\"cases\", \"Python\", \".ipynb_checkpoints\" , \"original_gw_codes_c64109\" ,\"original_gw_codes\", \"cam_files\" }\n",
    "\n",
    "for cur, dirs, files in os.walk(root):\n",
    "    rel=os.path.relpath(cur, root)\n",
    "    if any(p in exclude for p in rel.split(os.sep)): continue\n",
    "    level=0 if rel==\".\" else rel.count(os.sep)+1\n",
    "    print(\"  \"*(level-1) + (\"|--- \" if level else \"\") + (rel if rel!=\".\" else \".\"))\n",
    "    for f in sorted(files):\n",
    "        print(\"      \"*level + \"|--- \" + f)\n"
   ]
  },
  {
   "cell_type": "code",
   "execution_count": null,
   "id": "7d62025a-1c73-494e-8649-e207a976e561",
   "metadata": {},
   "outputs": [],
   "source": []
  }
 ],
 "metadata": {
  "kernelspec": {
   "display_name": "NPL 2025b",
   "language": "python",
   "name": "npl-2025b"
  },
  "language_info": {
   "codemirror_mode": {
    "name": "ipython",
    "version": 3
   },
   "file_extension": ".py",
   "mimetype": "text/x-python",
   "name": "python",
   "nbconvert_exporter": "python",
   "pygments_lexer": "ipython3",
   "version": "3.12.11"
  }
 },
 "nbformat": 4,
 "nbformat_minor": 5
}
