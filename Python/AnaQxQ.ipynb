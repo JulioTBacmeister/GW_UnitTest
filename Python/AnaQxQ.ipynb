{
 "cells": [
  {
   "cell_type": "code",
   "execution_count": null,
   "id": "4db9804f-7b49-4a56-86a6-9f16b5427611",
   "metadata": {},
   "outputs": [],
   "source": [
    "import numpy as np\n",
    "import xarray as xr\n",
    "import matplotlib.pyplot as plt\n",
    "\n",
    "import read_nml as rnl\n",
    "\n",
    "from Utils import numerical_utils as nuti\n"
   ]
  },
  {
   "cell_type": "code",
   "execution_count": null,
   "id": "4490df87-466c-49cd-a6ea-7de907872369",
   "metadata": {},
   "outputs": [],
   "source": [
    "# Replace with your path\n",
    "case='correctedZeta'\n",
    "odir = f\"../cases/{case}\"\n",
    "\n",
    "nml_path = f\"{odir}/atm_in\"\n",
    "\n",
    "nml = rnl.read_namelist(nml_path)\n",
    "group_name, active = rnl.choose_active_group(nml)\n",
    "\n",
    "print(f\"Active group: {group_name}\")\n",
    "# Access fields robustly\n",
    "bnd_topo = active.get('bnd_topo')\n",
    "ncdata = active.get('ncdata')\n",
    "scale = active.get('scale_dry_air_mass')\n",
    "use_topo = active.get('use_topo_file')\n",
    "\n",
    "print(\"bnd_topo:\", bnd_topo)\n",
    "print(\"ncdata:\", ncdata)\n",
    "print(\"scale_dry_air_mass:\", scale)\n",
    "print(\"use_topo_file:\", use_topo)\n"
   ]
  },
  {
   "cell_type": "code",
   "execution_count": null,
   "id": "fc061894-0ab7-4058-a7e6-c6f2ef30c2ca",
   "metadata": {},
   "outputs": [],
   "source": [
    "print( active )"
   ]
  },
  {
   "cell_type": "code",
   "execution_count": null,
   "id": "55eb2479-19aa-420d-a6e9-6a7aecd0fce9",
   "metadata": {},
   "outputs": [],
   "source": [
    "\n",
    "# Open the binary file\n",
    "with open(f\"{odir}/GW.dat\", 'rb') as f:\n",
    "    # Read the dimensions (ncol, nlev) - Fortran writes integers in 4 bytes by default\n",
    "    ncol, nlev = np.fromfile(f, dtype=np.int32, count=2)\n",
    "    print(f\"Dimensions read from file: ncol={ncol}, nlev={nlev}\")\n",
    "    lat = np.fromfile(f, dtype=np.float64, count=ncol  )                                               #.reshape((ncol, nlev+1), order='F')\n",
    "    lon = np.fromfile(f, dtype=np.float64, count=ncol  )                                               #.reshape((ncol, nlev+1), order='F')\n",
    "    sgh = np.fromfile(f, dtype=np.float64, count=ncol  )                                               #.reshape((ncol, nlev+1), order='F')\n",
    "\n",
    "\n",
    "\n",
    "    \n",
    "    # Read array (two dimensions), Fortran order\n",
    "    zm = np.fromfile(f, dtype=np.float64, count=ncol * nlev).reshape((ncol, nlev), order='F')\n",
    "    # Read  array (two dimensions), Fortran order\n",
    "    zi = np.fromfile(f, dtype=np.float64, count=ncol * (nlev+1) ).reshape((ncol, nlev+1), order='F')\n",
    "\n",
    "    uu = np.fromfile(f, dtype=np.float64, count=ncol * nlev).reshape((ncol, nlev), order='F')\n",
    "    vv = np.fromfile(f, dtype=np.float64, count=ncol * nlev).reshape((ncol, nlev), order='F')\n",
    "\n",
    "    # read booleans (4 bytes each)\n",
    "    flags_int = np.fromfile(f, dtype=np.int32, count=2)\n",
    "    use_gw_rdg_beta , use_gw_movmtn_pbl = flags_int != 0  # convert to booleans\n",
    "\n",
    "    print( f\"Boolean use_gw_rdg_beta and use_gw_movmtn_pbl vars => {use_gw_rdg_beta} {use_gw_movmtn_pbl}\" )\n",
    "    \n",
    "    tau_a = np.fromfile(f, dtype=np.float64, count=ncol * (nlev+1) ).reshape((ncol, nlev+1), order='F')\n",
    "    tau_b = np.fromfile(f, dtype=np.float64, count=ncol * (nlev+1) ).reshape((ncol, nlev+1), order='F')\n",
    "\n",
    "    bwv = np.fromfile(f, dtype=np.float64, count=ncol  )                                               #.reshape((ncol, nlev+1), order='F')\n",
    "    tlb = np.fromfile(f, dtype=np.float64, count=ncol  )                                               #.reshape((ncol, nlev+1), order='F')\n",
    "    wbr = np.fromfile(f, dtype=np.float64, count=ncol  )                                               #.reshape((ncol, nlev+1), order='F')\n",
    "\n",
    "    ubmsrc = np.fromfile(f, dtype=np.float64, count=ncol  )                                               #.reshape((ncol, nlev+1), order='F')\n",
    "    nsrc = np.fromfile(f, dtype=np.float64, count=ncol  )                                               #.reshape((ncol, nlev+1), order='F')\n",
    "\n",
    "    tauoro = np.fromfile(f, dtype=np.float64, count=ncol  )                                               #.reshape((ncol, nlev+1), order='F')\n",
    "    taudsw = np.fromfile(f, dtype=np.float64, count=ncol  )                                               #.reshape((ncol, nlev+1), order='F')\n",
    "    \n",
    "    ubm = np.fromfile(f, dtype=np.float64, count=ncol * (nlev) ).reshape((ncol, nlev), order='F')\n",
    "    tau = np.fromfile(f, dtype=np.float64, count=ncol * (nlev+1) ).reshape((ncol, nlev+1), order='F')\n",
    "    tau_diag = np.fromfile(f, dtype=np.float64, count=ncol * (nlev+1) ).reshape((ncol, nlev+1), order='F')\n",
    "\n",
    "    if (use_gw_movmtn_pbl==True):\n",
    "        ubm_movmtn  = np.fromfile(f, dtype=np.float64, count=ncol * (nlev) ).reshape((ncol, nlev), order='F')\n",
    "        vort_movmtn = np.fromfile(f, dtype=np.float64, count=ncol * (nlev) ).reshape((ncol, nlev), order='F')\n",
    "        tau_movmtn  = np.fromfile(f, dtype=np.float64, count=ncol * (nlev+1) ).reshape((ncol, nlev+1), order='F')\n",
    "\n",
    "# \n"
   ]
  },
  {
   "cell_type": "code",
   "execution_count": null,
   "id": "0c9f9fa1-dc3c-4e77-b6fc-95637d85469d",
   "metadata": {},
   "outputs": [],
   "source": [
    "print( tau.shape )"
   ]
  },
  {
   "cell_type": "code",
   "execution_count": null,
   "id": "fe164647-10b4-42b4-a81f-92230ce25ccb",
   "metadata": {},
   "outputs": [],
   "source": [
    "\n",
    "print( ncdata )\n",
    "print(active['ncdata_type'])\n"
   ]
  },
  {
   "cell_type": "code",
   "execution_count": null,
   "id": "1379736f-7814-411a-8efc-fe4809050e67",
   "metadata": {},
   "outputs": [],
   "source": [
    "#\n",
    "X=xr.open_dataset( ncdata )"
   ]
  },
  {
   "cell_type": "code",
   "execution_count": null,
   "id": "4e9c465e-fe04-4d98-8580-17f101abcda1",
   "metadata": {},
   "outputs": [],
   "source": [
    "if (active['ncdata_type'] == 'XY_DATA' ):\n",
    "    dims=np.array( X.dims.values )\n",
    "    nt = X.sizes['time'] \n",
    "    nz = X.sizes['lev'] \n",
    "    ny = X.sizes['lat'] \n",
    "    nx = X.sizes['lon'] \n",
    "    print( X.upwp.values.shape )\n",
    "    lat_xy = lat.reshape( [nx,ny] )\n",
    "    sgh_xy = sgh.reshape( [ny,nx] )\n",
    "    # This reshaping seems to work \n",
    "    zm_xy = zm.reshape( [ny,nx,nz] )\n",
    "    uu_xy = uu.reshape( [ny,nx,nz] )\n",
    "    vv_xy = vv.reshape( [ny,nx,nz] )\n",
    "    zeta_xy = vort_movmtn.reshape( [ny,nx,nz] )\n",
    "    "
   ]
  },
  {
   "cell_type": "code",
   "execution_count": null,
   "id": "5cabd61d-58c9-4e5d-9084-d98015a8935b",
   "metadata": {},
   "outputs": [],
   "source": [
    "if (active['ncdata_type'] == 'XY_DATA' ):\n",
    "    lon1 = X.lon.values\n",
    "    lat1 = X.lat.values\n",
    "    upwp=X.upwp.values\n",
    "    vpwp=X.vpwp.values\n",
    "    uu_m=X.U.values\n",
    "    vv_m=X.V.values\n",
    "    \n",
    "    mpwp=np.sqrt( upwp**2 + vpwp**2 )\n",
    "\n",
    "    zeta_m = np.zeros(  (nt,nz,ny,nx) )\n",
    "    for z in np.arange( nz ):\n",
    "        zeta_m[0,z,:,:] = nuti. Sphere_Curl2( f_x=uu_m[0,z,:,:], f_y=vv_m[0,z,:,:], lat=lat1, lon=lon1, wrap=True )\n",
    "        #print( z )\n"
   ]
  },
  {
   "cell_type": "code",
   "execution_count": null,
   "id": "0238ea3d-bfbc-4aa5-aae5-1bee90f9c46d",
   "metadata": {},
   "outputs": [],
   "source": [
    "fig,axs=plt.subplots( 1,2, figsize=(33,8) )\n",
    "\n",
    "t,z=0,80\n",
    "levels=1e-3 * np.linspace( -1,1,num=21)\n",
    "cmap='bwr'\n",
    "\n",
    "ax=axs[0]\n",
    "c=ax.contourf( lon1, lat1, zeta_m[t,z,:,:] , levels= levels, cmap=cmap ) # vort_movmtn[:,90] )\n",
    "ax.set_title( ' voriticy from Python' )\n",
    "plt.colorbar(c)\n",
    "ax=axs[1]\n",
    "c=ax.contourf( lon1, lat1, zeta_xy[:,:,z] , levels= levels, cmap=cmap  ) # vort_movmtn[:,90] )\n",
    "ax.set_title( 'vorticity from Fortran' )\n",
    "plt.colorbar(c)\n"
   ]
  },
  {
   "cell_type": "code",
   "execution_count": null,
   "id": "a608cb8c-aedd-41d5-a728-87b2d16263fe",
   "metadata": {},
   "outputs": [],
   "source": [
    "#plt.scatter( zeta_m[t,z,:,:].flatten() , zeta_xy[:,:,z].flatten() )\n",
    "\n",
    "plt.plot( zeta_m[t,z,:,:].flatten() )\n",
    "plt.plot( zeta_xy[:,:,z].flatten() )\n",
    "plt.plot( zeta_m[t,z,:,:].flatten() - zeta_xy[:,:,z].flatten() )\n",
    "\n"
   ]
  },
  {
   "cell_type": "code",
   "execution_count": null,
   "id": "74a77919-ab0f-45a0-9be3-c8936c240bfd",
   "metadata": {},
   "outputs": [],
   "source": []
  }
 ],
 "metadata": {
  "kernelspec": {
   "display_name": "NPL 2025b",
   "language": "python",
   "name": "npl-2025b"
  },
  "language_info": {
   "codemirror_mode": {
    "name": "ipython",
    "version": 3
   },
   "file_extension": ".py",
   "mimetype": "text/x-python",
   "name": "python",
   "nbconvert_exporter": "python",
   "pygments_lexer": "ipython3",
   "version": "3.12.11"
  }
 },
 "nbformat": 4,
 "nbformat_minor": 5
}
